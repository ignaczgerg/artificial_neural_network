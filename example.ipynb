{
 "cells": [
  {
   "cell_type": "markdown",
   "metadata": {},
   "source": [
    "## Example notebook how to use the neural network"
   ]
  },
  {
   "cell_type": "markdown",
   "metadata": {},
   "source": [
    "We will demonstrate the use of the neural network on the MNIST dataset. \n",
    "We will use fetch_openml to download the MNIST dataset.\n",
    "This example uses other libraries than numpy but these are just for support, they do not contribute to the neural network"
   ]
  },
  {
   "cell_type": "code",
   "execution_count": 1,
   "metadata": {},
   "outputs": [],
   "source": [
    "from sklearn.datasets import fetch_openml\n",
    "import numpy as np"
   ]
  },
  {
   "cell_type": "code",
   "execution_count": 2,
   "metadata": {},
   "outputs": [],
   "source": [
    "mnist = fetch_openml('mnist_784')"
   ]
  },
  {
   "cell_type": "markdown",
   "metadata": {},
   "source": [
    "It is nice, the dataset is already preprocessed for us:"
   ]
  },
  {
   "cell_type": "code",
   "execution_count": 3,
   "metadata": {},
   "outputs": [
    {
     "data": {
      "text/plain": [
       "(70000, 784)"
      ]
     },
     "execution_count": 3,
     "metadata": {},
     "output_type": "execute_result"
    }
   ],
   "source": [
    "X = np.array(mnist.data.astype('float32'))\n",
    "y = mnist.target.astype('int64')\n",
    "X.shape"
   ]
  },
  {
   "cell_type": "markdown",
   "metadata": {},
   "source": [
    "Visualization of a handwritten digit using matplotlib:"
   ]
  },
  {
   "cell_type": "code",
   "execution_count": 4,
   "metadata": {},
   "outputs": [],
   "source": [
    "import matplotlib.pyplot as plt\n",
    "import matplotlib.image as mpimg\n",
    "%matplotlib inline"
   ]
  },
  {
   "cell_type": "code",
   "execution_count": 5,
   "metadata": {},
   "outputs": [
    {
     "name": "stdout",
     "output_type": "stream",
     "text": [
      "1\n"
     ]
    },
    {
     "data": {
      "image/png": "[encoded data removed]",
      "text/plain": [
       "<Figure size 432x288 with 1 Axes>"
      ]
     },
     "metadata": {
      "needs_background": "light"
     },
     "output_type": "display_data"
    }
   ],
   "source": [
    "imgplot = plt.imshow(X[6].reshape(28,28))\n",
    "print(y[6])"
   ]
  },
  {
   "cell_type": "markdown",
   "metadata": {},
   "source": [
    "Splitting the data to train, validation and test sets. We have to use one-hot encoding for the labels:"
   ]
  },
  {
   "cell_type": "code",
   "execution_count": 6,
   "metadata": {},
   "outputs": [],
   "source": [
    "from utils import categorical_to_onehot"
   ]
  },
  {
   "cell_type": "code",
   "execution_count": 7,
   "metadata": {},
   "outputs": [],
   "source": [
    "train_x = np.array(X[:50000])/255.\n",
    "train_y = categorical_to_onehot(np.array(y[:50000]))\n",
    "\n",
    "validation_x = np.array(X[:10000])/255.\n",
    "validation_y = categorical_to_onehot(np.array(y[:10000]))\n",
    "\n",
    "test_x = np.array(X[:10000])/255.\n",
    "test_y = categorical_to_onehot(np.array(y[:10000]))"
   ]
  },
  {
   "cell_type": "code",
   "execution_count": 8,
   "metadata": {},
   "outputs": [],
   "source": [
    "from layers import InputLayer, DenseLayer, ActivationLayer\n",
    "from activations import softmax\n",
    "from optimizers import GradientDescentOptmizer\n",
    "from costs import BinaryCrossEntropyCost\n",
    "from metrics import CategoricalAccuracyMetric\n",
    "from utils import format_data"
   ]
  },
  {
   "cell_type": "markdown",
   "metadata": {},
   "source": [
    "We initialize the network:"
   ]
  },
  {
   "cell_type": "code",
   "execution_count": 9,
   "metadata": {},
   "outputs": [],
   "source": [
    "from neural import Neural"
   ]
  },
  {
   "cell_type": "code",
   "execution_count": 10,
   "metadata": {},
   "outputs": [],
   "source": [
    "network = Neural(\n",
    "  optimizer=GradientDescentOptmizer(learning_rate=0.001),\n",
    "  cost=BinaryCrossEntropyCost(),\n",
    "  metric=CategoricalAccuracyMetric()\n",
    ")"
   ]
  },
  {
   "cell_type": "markdown",
   "metadata": {},
   "source": [
    "We define the network by adding layers together. \n",
    "The first layer has to be a InputLayer. Without this, the network will fail to compile. \n",
    "Currently, the network only can have fully connected dense layers. We can combine multiple layers together. "
   ]
  },
  {
   "cell_type": "code",
   "execution_count": 11,
   "metadata": {},
   "outputs": [],
   "source": [
    "network.add_layer(InputLayer(shape=(784)))\n",
    "network.add_layer(DenseLayer(units=64))\n",
    "network.add_layer(DenseLayer(units=10))\n",
    "network.add_layer(ActivationLayer(function=softmax))"
   ]
  },
  {
   "cell_type": "markdown",
   "metadata": {},
   "source": [
    "We compile the network. After compilation, the network must be built again from the beginning if we want to modify the layers. "
   ]
  },
  {
   "cell_type": "code",
   "execution_count": 12,
   "metadata": {},
   "outputs": [],
   "source": [
    "network.compile()"
   ]
  },
  {
   "cell_type": "markdown",
   "metadata": {},
   "source": [
    "We call the neural.train function to train the network,"
   ]
  },
  {
   "cell_type": "code",
   "execution_count": 13,
   "metadata": {},
   "outputs": [
    {
     "name": "stdout",
     "output_type": "stream",
     "text": [
      "Training\n",
      "\n",
      "Epoch: 1/3\t2022-01-01 00:56:37.113943\n",
      "Train:\tAccu: 1.000\tLoss: 0.117\n",
      "Valid:\tAccu: 0.907\tLoss: 0.553\n",
      "Time: 0:00:02.832970\n",
      "\n",
      "Epoch: 2/3\t2022-01-01 00:56:39.946942\n",
      "Train:\tAccu: 1.000\tLoss: 0.220\n",
      "Valid:\tAccu: 0.918\tLoss: 0.495\n",
      "Time: 0:00:02.956664\n",
      "\n",
      "Epoch: 3/3\t2022-01-01 00:56:42.903637\n",
      "Train:\tAccu: 0.875\tLoss: 0.427\n",
      "Valid:\tAccu: 0.921\tLoss: 0.473\n",
      "Time: 0:00:02.281165\n",
      "\n",
      "Test:\tAccu: 0.921\tLoss: 0.473\n",
      "\n",
      "Done\n",
      "\n"
     ]
    }
   ],
   "source": [
    "network.train(train_data=(train_x, train_y),\n",
    "            epochs=3,\n",
    "            batch_size=32,\n",
    "            validation_data=(validation_x, validation_y),\n",
    "            test_data=(test_x, test_y))"
   ]
  },
  {
   "cell_type": "markdown",
   "metadata": {},
   "source": [
    "After a few epochs, we reach around 0.92 accuracy, which is okay for a small network like this (but really bad in general on the MNIST). "
   ]
  },
  {
   "cell_type": "markdown",
   "metadata": {},
   "source": [
    "To see the predictions, we can use similar visualization with matplotlib. We can see, that the model corretly predicts the digits most of the time. "
   ]
  },
  {
   "cell_type": "code",
   "execution_count": 15,
   "metadata": {},
   "outputs": [
    {
     "name": "stdout",
     "output_type": "stream",
     "text": [
      "[[9.13837190e-05 4.58757011e-09 3.00051101e-10 4.11459770e-05\n",
      "  6.02300772e-04 1.02188955e-04 1.19481381e-08 9.84144101e-01\n",
      "  6.62849366e-05 1.49525782e-02]]\n",
      "[0. 0. 0. 0. 0. 0. 0. 1. 0. 0.]\n"
     ]
    },
    {
     "data": {
      "image/png": "[encoded data removed]",
      "text/plain": [
       "<Figure size 432x288 with 1 Axes>"
      ]
     },
     "metadata": {
      "needs_background": "light"
     },
     "output_type": "display_data"
    }
   ],
   "source": [
    "test_number = 101\n",
    "print(network.predict([test_x[test_number]]))\n",
    "imgplot = plt.imshow(test_x[test_number].reshape(28,28))\n",
    "print(test_y[test_number])"
   ]
  },
  {
   "cell_type": "code",
   "execution_count": null,
   "metadata": {},
   "outputs": [],
   "source": []
  }
 ],
 "metadata": {
  "interpreter": {
   "hash": "0aa4e8675c74d088667059faeed7c79ff4d12df709bae3274d15508dcd405ce4"
  },
  "kernelspec": {
   "display_name": "Python 3.8.10 64-bit ('mordred': conda)",
   "language": "python",
   "name": "python3"
  },
  "language_info": {
   "codemirror_mode": {
    "name": "ipython",
    "version": 3
   },
   "file_extension": ".py",
   "mimetype": "text/x-python",
   "name": "python",
   "nbconvert_exporter": "python",
   "pygments_lexer": "ipython3",
   "version": "3.8.10"
  },
  "orig_nbformat": 4
 },
 "nbformat": 4,
 "nbformat_minor": 2
}
